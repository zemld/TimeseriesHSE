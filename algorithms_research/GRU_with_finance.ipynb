{
  "nbformat": 4,
  "nbformat_minor": 0,
  "metadata": {
    "colab": {
      "provenance": [],
      "gpuType": "T4"
    },
    "kernelspec": {
      "name": "python3",
      "display_name": "Python 3"
    },
    "language_info": {
      "name": "python"
    },
    "accelerator": "GPU"
  },
  "cells": [
    {
      "cell_type": "code",
      "execution_count": null,
      "metadata": {
        "id": "VVYnTHaVYNAN"
      },
      "outputs": [],
      "source": [
        "import numpy as np\n",
        "import pandas as pd\n",
        "import matplotlib.pyplot as plt\n",
        "from sklearn.preprocessing import MinMaxScaler\n",
        "from sklearn.model_selection import train_test_split\n",
        "from tensorflow.keras.models import Sequential\n",
        "from tensorflow.keras.layers import GRU, Dense, Dropout, Bidirectional, BatchNormalization\n",
        "from tensorflow.keras.callbacks import EarlyStopping, ReduceLROnPlateau\n",
        "import matplotlib.pyplot as plt\n",
        "import matplotlib.dates as mdates\n",
        "from pandas.plotting import register_matplotlib_converters\n",
        "from sklearn.metrics import mean_absolute_error, mean_squared_error, r2_score, root_mean_squared_error, mean_absolute_percentage_error\n",
        "register_matplotlib_converters()"
      ]
    },
    {
      "cell_type": "markdown",
      "source": [
        "##Загрузка датасета"
      ],
      "metadata": {
        "id": "feo-i3-4aW3c"
      }
    },
    {
      "cell_type": "code",
      "source": [
        "df = pd.read_json(\"sber.json\")\n",
        "df.head()"
      ],
      "metadata": {
        "colab": {
          "base_uri": "https://localhost:8080/",
          "height": 206
        },
        "id": "AqXThXIGYSV3",
        "outputId": "9928001e-7606-4c9f-c989-36b2e91a16e1"
      },
      "execution_count": null,
      "outputs": [
        {
          "output_type": "execute_result",
          "data": {
            "text/plain": [
              "        date   close    open     low    high  trendclspr     volume  \\\n",
              "0 2022-03-28  125.00  130.60  125.00  131.47       -4.94   33212430   \n",
              "1 2022-03-29  128.77  126.16  122.00  137.57        3.02   72338740   \n",
              "2 2022-03-30  134.60  136.89  131.11  138.40        4.53   35675450   \n",
              "3 2022-03-31  143.69  135.25  134.52  147.41        6.75  118425000   \n",
              "4 2022-04-01  154.50  145.00  144.51  155.40        7.52  118880720   \n",
              "\n",
              "          value  numtrades  \n",
              "0  4.203875e+09     121793  \n",
              "1  9.470337e+09     184608  \n",
              "2  4.754054e+09     102479  \n",
              "3  1.666945e+10     255603  \n",
              "4  1.802233e+10     265276  "
            ],
            "text/html": [
              "\n",
              "  <div id=\"df-448bda95-44b5-4cea-a17d-e9bc5ff11ad5\" class=\"colab-df-container\">\n",
              "    <div>\n",
              "<style scoped>\n",
              "    .dataframe tbody tr th:only-of-type {\n",
              "        vertical-align: middle;\n",
              "    }\n",
              "\n",
              "    .dataframe tbody tr th {\n",
              "        vertical-align: top;\n",
              "    }\n",
              "\n",
              "    .dataframe thead th {\n",
              "        text-align: right;\n",
              "    }\n",
              "</style>\n",
              "<table border=\"1\" class=\"dataframe\">\n",
              "  <thead>\n",
              "    <tr style=\"text-align: right;\">\n",
              "      <th></th>\n",
              "      <th>date</th>\n",
              "      <th>close</th>\n",
              "      <th>open</th>\n",
              "      <th>low</th>\n",
              "      <th>high</th>\n",
              "      <th>trendclspr</th>\n",
              "      <th>volume</th>\n",
              "      <th>value</th>\n",
              "      <th>numtrades</th>\n",
              "    </tr>\n",
              "  </thead>\n",
              "  <tbody>\n",
              "    <tr>\n",
              "      <th>0</th>\n",
              "      <td>2022-03-28</td>\n",
              "      <td>125.00</td>\n",
              "      <td>130.60</td>\n",
              "      <td>125.00</td>\n",
              "      <td>131.47</td>\n",
              "      <td>-4.94</td>\n",
              "      <td>33212430</td>\n",
              "      <td>4.203875e+09</td>\n",
              "      <td>121793</td>\n",
              "    </tr>\n",
              "    <tr>\n",
              "      <th>1</th>\n",
              "      <td>2022-03-29</td>\n",
              "      <td>128.77</td>\n",
              "      <td>126.16</td>\n",
              "      <td>122.00</td>\n",
              "      <td>137.57</td>\n",
              "      <td>3.02</td>\n",
              "      <td>72338740</td>\n",
              "      <td>9.470337e+09</td>\n",
              "      <td>184608</td>\n",
              "    </tr>\n",
              "    <tr>\n",
              "      <th>2</th>\n",
              "      <td>2022-03-30</td>\n",
              "      <td>134.60</td>\n",
              "      <td>136.89</td>\n",
              "      <td>131.11</td>\n",
              "      <td>138.40</td>\n",
              "      <td>4.53</td>\n",
              "      <td>35675450</td>\n",
              "      <td>4.754054e+09</td>\n",
              "      <td>102479</td>\n",
              "    </tr>\n",
              "    <tr>\n",
              "      <th>3</th>\n",
              "      <td>2022-03-31</td>\n",
              "      <td>143.69</td>\n",
              "      <td>135.25</td>\n",
              "      <td>134.52</td>\n",
              "      <td>147.41</td>\n",
              "      <td>6.75</td>\n",
              "      <td>118425000</td>\n",
              "      <td>1.666945e+10</td>\n",
              "      <td>255603</td>\n",
              "    </tr>\n",
              "    <tr>\n",
              "      <th>4</th>\n",
              "      <td>2022-04-01</td>\n",
              "      <td>154.50</td>\n",
              "      <td>145.00</td>\n",
              "      <td>144.51</td>\n",
              "      <td>155.40</td>\n",
              "      <td>7.52</td>\n",
              "      <td>118880720</td>\n",
              "      <td>1.802233e+10</td>\n",
              "      <td>265276</td>\n",
              "    </tr>\n",
              "  </tbody>\n",
              "</table>\n",
              "</div>\n",
              "    <div class=\"colab-df-buttons\">\n",
              "\n",
              "  <div class=\"colab-df-container\">\n",
              "    <button class=\"colab-df-convert\" onclick=\"convertToInteractive('df-448bda95-44b5-4cea-a17d-e9bc5ff11ad5')\"\n",
              "            title=\"Convert this dataframe to an interactive table.\"\n",
              "            style=\"display:none;\">\n",
              "\n",
              "  <svg xmlns=\"http://www.w3.org/2000/svg\" height=\"24px\" viewBox=\"0 -960 960 960\">\n",
              "    <path d=\"M120-120v-720h720v720H120Zm60-500h600v-160H180v160Zm220 220h160v-160H400v160Zm0 220h160v-160H400v160ZM180-400h160v-160H180v160Zm440 0h160v-160H620v160ZM180-180h160v-160H180v160Zm440 0h160v-160H620v160Z\"/>\n",
              "  </svg>\n",
              "    </button>\n",
              "\n",
              "  <style>\n",
              "    .colab-df-container {\n",
              "      display:flex;\n",
              "      gap: 12px;\n",
              "    }\n",
              "\n",
              "    .colab-df-convert {\n",
              "      background-color: #E8F0FE;\n",
              "      border: none;\n",
              "      border-radius: 50%;\n",
              "      cursor: pointer;\n",
              "      display: none;\n",
              "      fill: #1967D2;\n",
              "      height: 32px;\n",
              "      padding: 0 0 0 0;\n",
              "      width: 32px;\n",
              "    }\n",
              "\n",
              "    .colab-df-convert:hover {\n",
              "      background-color: #E2EBFA;\n",
              "      box-shadow: 0px 1px 2px rgba(60, 64, 67, 0.3), 0px 1px 3px 1px rgba(60, 64, 67, 0.15);\n",
              "      fill: #174EA6;\n",
              "    }\n",
              "\n",
              "    .colab-df-buttons div {\n",
              "      margin-bottom: 4px;\n",
              "    }\n",
              "\n",
              "    [theme=dark] .colab-df-convert {\n",
              "      background-color: #3B4455;\n",
              "      fill: #D2E3FC;\n",
              "    }\n",
              "\n",
              "    [theme=dark] .colab-df-convert:hover {\n",
              "      background-color: #434B5C;\n",
              "      box-shadow: 0px 1px 3px 1px rgba(0, 0, 0, 0.15);\n",
              "      filter: drop-shadow(0px 1px 2px rgba(0, 0, 0, 0.3));\n",
              "      fill: #FFFFFF;\n",
              "    }\n",
              "  </style>\n",
              "\n",
              "    <script>\n",
              "      const buttonEl =\n",
              "        document.querySelector('#df-448bda95-44b5-4cea-a17d-e9bc5ff11ad5 button.colab-df-convert');\n",
              "      buttonEl.style.display =\n",
              "        google.colab.kernel.accessAllowed ? 'block' : 'none';\n",
              "\n",
              "      async function convertToInteractive(key) {\n",
              "        const element = document.querySelector('#df-448bda95-44b5-4cea-a17d-e9bc5ff11ad5');\n",
              "        const dataTable =\n",
              "          await google.colab.kernel.invokeFunction('convertToInteractive',\n",
              "                                                    [key], {});\n",
              "        if (!dataTable) return;\n",
              "\n",
              "        const docLinkHtml = 'Like what you see? Visit the ' +\n",
              "          '<a target=\"_blank\" href=https://colab.research.google.com/notebooks/data_table.ipynb>data table notebook</a>'\n",
              "          + ' to learn more about interactive tables.';\n",
              "        element.innerHTML = '';\n",
              "        dataTable['output_type'] = 'display_data';\n",
              "        await google.colab.output.renderOutput(dataTable, element);\n",
              "        const docLink = document.createElement('div');\n",
              "        docLink.innerHTML = docLinkHtml;\n",
              "        element.appendChild(docLink);\n",
              "      }\n",
              "    </script>\n",
              "  </div>\n",
              "\n",
              "\n",
              "<div id=\"df-b7621d7c-b0df-4ea0-a7b3-a2e04a41a117\">\n",
              "  <button class=\"colab-df-quickchart\" onclick=\"quickchart('df-b7621d7c-b0df-4ea0-a7b3-a2e04a41a117')\"\n",
              "            title=\"Suggest charts\"\n",
              "            style=\"display:none;\">\n",
              "\n",
              "<svg xmlns=\"http://www.w3.org/2000/svg\" height=\"24px\"viewBox=\"0 0 24 24\"\n",
              "     width=\"24px\">\n",
              "    <g>\n",
              "        <path d=\"M19 3H5c-1.1 0-2 .9-2 2v14c0 1.1.9 2 2 2h14c1.1 0 2-.9 2-2V5c0-1.1-.9-2-2-2zM9 17H7v-7h2v7zm4 0h-2V7h2v10zm4 0h-2v-4h2v4z\"/>\n",
              "    </g>\n",
              "</svg>\n",
              "  </button>\n",
              "\n",
              "<style>\n",
              "  .colab-df-quickchart {\n",
              "      --bg-color: #E8F0FE;\n",
              "      --fill-color: #1967D2;\n",
              "      --hover-bg-color: #E2EBFA;\n",
              "      --hover-fill-color: #174EA6;\n",
              "      --disabled-fill-color: #AAA;\n",
              "      --disabled-bg-color: #DDD;\n",
              "  }\n",
              "\n",
              "  [theme=dark] .colab-df-quickchart {\n",
              "      --bg-color: #3B4455;\n",
              "      --fill-color: #D2E3FC;\n",
              "      --hover-bg-color: #434B5C;\n",
              "      --hover-fill-color: #FFFFFF;\n",
              "      --disabled-bg-color: #3B4455;\n",
              "      --disabled-fill-color: #666;\n",
              "  }\n",
              "\n",
              "  .colab-df-quickchart {\n",
              "    background-color: var(--bg-color);\n",
              "    border: none;\n",
              "    border-radius: 50%;\n",
              "    cursor: pointer;\n",
              "    display: none;\n",
              "    fill: var(--fill-color);\n",
              "    height: 32px;\n",
              "    padding: 0;\n",
              "    width: 32px;\n",
              "  }\n",
              "\n",
              "  .colab-df-quickchart:hover {\n",
              "    background-color: var(--hover-bg-color);\n",
              "    box-shadow: 0 1px 2px rgba(60, 64, 67, 0.3), 0 1px 3px 1px rgba(60, 64, 67, 0.15);\n",
              "    fill: var(--button-hover-fill-color);\n",
              "  }\n",
              "\n",
              "  .colab-df-quickchart-complete:disabled,\n",
              "  .colab-df-quickchart-complete:disabled:hover {\n",
              "    background-color: var(--disabled-bg-color);\n",
              "    fill: var(--disabled-fill-color);\n",
              "    box-shadow: none;\n",
              "  }\n",
              "\n",
              "  .colab-df-spinner {\n",
              "    border: 2px solid var(--fill-color);\n",
              "    border-color: transparent;\n",
              "    border-bottom-color: var(--fill-color);\n",
              "    animation:\n",
              "      spin 1s steps(1) infinite;\n",
              "  }\n",
              "\n",
              "  @keyframes spin {\n",
              "    0% {\n",
              "      border-color: transparent;\n",
              "      border-bottom-color: var(--fill-color);\n",
              "      border-left-color: var(--fill-color);\n",
              "    }\n",
              "    20% {\n",
              "      border-color: transparent;\n",
              "      border-left-color: var(--fill-color);\n",
              "      border-top-color: var(--fill-color);\n",
              "    }\n",
              "    30% {\n",
              "      border-color: transparent;\n",
              "      border-left-color: var(--fill-color);\n",
              "      border-top-color: var(--fill-color);\n",
              "      border-right-color: var(--fill-color);\n",
              "    }\n",
              "    40% {\n",
              "      border-color: transparent;\n",
              "      border-right-color: var(--fill-color);\n",
              "      border-top-color: var(--fill-color);\n",
              "    }\n",
              "    60% {\n",
              "      border-color: transparent;\n",
              "      border-right-color: var(--fill-color);\n",
              "    }\n",
              "    80% {\n",
              "      border-color: transparent;\n",
              "      border-right-color: var(--fill-color);\n",
              "      border-bottom-color: var(--fill-color);\n",
              "    }\n",
              "    90% {\n",
              "      border-color: transparent;\n",
              "      border-bottom-color: var(--fill-color);\n",
              "    }\n",
              "  }\n",
              "</style>\n",
              "\n",
              "  <script>\n",
              "    async function quickchart(key) {\n",
              "      const quickchartButtonEl =\n",
              "        document.querySelector('#' + key + ' button');\n",
              "      quickchartButtonEl.disabled = true;  // To prevent multiple clicks.\n",
              "      quickchartButtonEl.classList.add('colab-df-spinner');\n",
              "      try {\n",
              "        const charts = await google.colab.kernel.invokeFunction(\n",
              "            'suggestCharts', [key], {});\n",
              "      } catch (error) {\n",
              "        console.error('Error during call to suggestCharts:', error);\n",
              "      }\n",
              "      quickchartButtonEl.classList.remove('colab-df-spinner');\n",
              "      quickchartButtonEl.classList.add('colab-df-quickchart-complete');\n",
              "    }\n",
              "    (() => {\n",
              "      let quickchartButtonEl =\n",
              "        document.querySelector('#df-b7621d7c-b0df-4ea0-a7b3-a2e04a41a117 button');\n",
              "      quickchartButtonEl.style.display =\n",
              "        google.colab.kernel.accessAllowed ? 'block' : 'none';\n",
              "    })();\n",
              "  </script>\n",
              "</div>\n",
              "\n",
              "    </div>\n",
              "  </div>\n"
            ],
            "application/vnd.google.colaboratory.intrinsic+json": {
              "type": "dataframe",
              "variable_name": "df",
              "summary": "{\n  \"name\": \"df\",\n  \"rows\": 1066,\n  \"fields\": [\n    {\n      \"column\": \"date\",\n      \"properties\": {\n        \"dtype\": \"date\",\n        \"min\": \"2022-03-28 00:00:00\",\n        \"max\": \"2025-03-27 00:00:00\",\n        \"num_unique_values\": 763,\n        \"samples\": [\n          \"2023-08-25 00:00:00\",\n          \"2023-04-06 00:00:00\",\n          \"2025-03-10 00:00:00\"\n        ],\n        \"semantic_type\": \"\",\n        \"description\": \"\"\n      }\n    },\n    {\n      \"column\": \"close\",\n      \"properties\": {\n        \"dtype\": \"number\",\n        \"std\": 68.27245262155868,\n        \"min\": 101.5,\n        \"max\": 328.37,\n        \"num_unique_values\": 740,\n        \"samples\": [\n          124.31,\n          276.8,\n          261.92\n        ],\n        \"semantic_type\": \"\",\n        \"description\": \"\"\n      }\n    },\n    {\n      \"column\": \"open\",\n      \"properties\": {\n        \"dtype\": \"number\",\n        \"std\": 68.33339393992033,\n        \"min\": 96.55,\n        \"max\": 328.58,\n        \"num_unique_values\": 701,\n        \"samples\": [\n          315.48,\n          142.2,\n          137.16\n        ],\n        \"semantic_type\": \"\",\n        \"description\": \"\"\n      }\n    },\n    {\n      \"column\": \"low\",\n      \"properties\": {\n        \"dtype\": \"number\",\n        \"std\": 68.18362680396304,\n        \"min\": 96.5,\n        \"max\": 327.0,\n        \"num_unique_values\": 734,\n        \"samples\": [\n          317.5,\n          123.21,\n          229.81\n        ],\n        \"semantic_type\": \"\",\n        \"description\": \"\"\n      }\n    },\n    {\n      \"column\": \"high\",\n      \"properties\": {\n        \"dtype\": \"number\",\n        \"std\": 68.38633137430814,\n        \"min\": 106.77,\n        \"max\": 330.45,\n        \"num_unique_values\": 721,\n        \"samples\": [\n          240.74,\n          230.8,\n          134.79\n        ],\n        \"semantic_type\": \"\",\n        \"description\": \"\"\n      }\n    },\n    {\n      \"column\": \"trendclspr\",\n      \"properties\": {\n        \"dtype\": \"number\",\n        \"std\": 1.888412097335641,\n        \"min\": -10.33,\n        \"max\": 12.49,\n        \"num_unique_values\": 431,\n        \"samples\": [\n          -1.33,\n          -0.27,\n          -1.4\n        ],\n        \"semantic_type\": \"\",\n        \"description\": \"\"\n      }\n    },\n    {\n      \"column\": \"volume\",\n      \"properties\": {\n        \"dtype\": \"number\",\n        \"std\": 31246282,\n        \"min\": 5980690,\n        \"max\": 388164850,\n        \"num_unique_values\": 763,\n        \"samples\": [\n          28575150,\n          39061450,\n          39315360\n        ],\n        \"semantic_type\": \"\",\n        \"description\": \"\"\n      }\n    },\n    {\n      \"column\": \"value\",\n      \"properties\": {\n        \"dtype\": \"number\",\n        \"std\": 6987419409.151509,\n        \"min\": 1504730792.2,\n        \"max\": 72487640689.1,\n        \"num_unique_values\": 763,\n        \"samples\": [\n          7426717866.2,\n          8425126719.9,\n          12523199814.1\n        ],\n        \"semantic_type\": \"\",\n        \"description\": \"\"\n      }\n    },\n    {\n      \"column\": \"numtrades\",\n      \"properties\": {\n        \"dtype\": \"number\",\n        \"std\": 54700,\n        \"min\": 21373,\n        \"max\": 524131,\n        \"num_unique_values\": 760,\n        \"samples\": [\n          103110,\n          109742,\n          76026\n        ],\n        \"semantic_type\": \"\",\n        \"description\": \"\"\n      }\n    }\n  ]\n}"
            }
          },
          "metadata": {},
          "execution_count": 5
        }
      ]
    },
    {
      "cell_type": "code",
      "source": [
        "df.info()"
      ],
      "metadata": {
        "colab": {
          "base_uri": "https://localhost:8080/"
        },
        "id": "QhaTwdBiaJ1W",
        "outputId": "b2d3a758-07bf-4a14-d886-c78fe5c09af6"
      },
      "execution_count": null,
      "outputs": [
        {
          "output_type": "stream",
          "name": "stdout",
          "text": [
            "<class 'pandas.core.frame.DataFrame'>\n",
            "RangeIndex: 1066 entries, 0 to 1065\n",
            "Data columns (total 9 columns):\n",
            " #   Column      Non-Null Count  Dtype         \n",
            "---  ------      --------------  -----         \n",
            " 0   date        1066 non-null   datetime64[ns]\n",
            " 1   close       1066 non-null   float64       \n",
            " 2   open        1066 non-null   float64       \n",
            " 3   low         1066 non-null   float64       \n",
            " 4   high        1066 non-null   float64       \n",
            " 5   trendclspr  1066 non-null   float64       \n",
            " 6   volume      1066 non-null   int64         \n",
            " 7   value       1066 non-null   float64       \n",
            " 8   numtrades   1066 non-null   int64         \n",
            "dtypes: datetime64[ns](1), float64(6), int64(2)\n",
            "memory usage: 75.1 KB\n"
          ]
        }
      ]
    },
    {
      "cell_type": "markdown",
      "source": [
        "##Предобработка"
      ],
      "metadata": {
        "id": "9Uo5xTLUaZ8Q"
      }
    },
    {
      "cell_type": "code",
      "source": [
        "df = df.sort_values('date').reset_index(drop=True)\n",
        "df = df.dropna()\n",
        "df.set_index('date', inplace=True)\n",
        "\n",
        "df['dayofweek'] = df.index.dayofweek\n",
        "df['month'] = df.index.month\n",
        "df['day'] = df.index.day\n",
        "df['is_month_start'] = df.index.is_month_start.astype(int)"
      ],
      "metadata": {
        "id": "PnXUMf15aMlE"
      },
      "execution_count": null,
      "outputs": []
    },
    {
      "cell_type": "code",
      "source": [
        "target_col = 'close'\n",
        "features = ['close', 'open', 'low', 'high', 'trendclspr', 'volume', 'value', 'numtrades',\n",
        "            'dayofweek', 'month', 'day', 'is_month_start']\n",
        "\n",
        "scaler = MinMaxScaler()\n",
        "scaled_data = scaler.fit_transform(df[features])"
      ],
      "metadata": {
        "id": "IgZuDjqycYbz"
      },
      "execution_count": null,
      "outputs": []
    },
    {
      "cell_type": "markdown",
      "source": [
        "####Создание последовательностей окон для модели"
      ],
      "metadata": {
        "id": "NYnywsXmpVjV"
      }
    },
    {
      "cell_type": "code",
      "source": [
        "def create_gru_dataset(data, input_steps=20, output_steps=48, target_col=0):\n",
        "    X, y = [], []\n",
        "    for i in range(input_steps, len(data) - output_steps + 1):\n",
        "        X.append(data[i - input_steps:i])\n",
        "        y.append(data[i:i + output_steps, target_col])  # close\n",
        "    return np.array(X), np.array(y)\n",
        "\n",
        "X_48, y_48 = create_gru_dataset(scaled_data, input_steps=30, output_steps=48)\n",
        "X_240, y_240 = create_gru_dataset(scaled_data, input_steps=30, output_steps=240)"
      ],
      "metadata": {
        "id": "HBGOWDJYh0lR"
      },
      "execution_count": null,
      "outputs": []
    },
    {
      "cell_type": "markdown",
      "source": [
        "##Создание модели и обучение"
      ],
      "metadata": {
        "id": "-7tlSmDIpjL2"
      }
    },
    {
      "cell_type": "code",
      "source": [
        "def build_gru_model(input_shape, output_steps):\n",
        "    model = Sequential()\n",
        "    model.add(GRU(128, return_sequences=True, input_shape=input_shape))\n",
        "    model.add(Dropout(0.3))\n",
        "    model.add(GRU(64, return_sequences=False))\n",
        "    model.add(Dropout(0.2))\n",
        "    model.add(Dense(output_steps))\n",
        "\n",
        "    model.compile(optimizer='adam', loss='mse', metrics=['mae'])\n",
        "    return model\n",
        "\n",
        "model_48 = build_gru_model(X_48.shape[1:], 48)\n",
        "model_240 = build_gru_model(X_240.shape[1:], 240)"
      ],
      "metadata": {
        "colab": {
          "base_uri": "https://localhost:8080/"
        },
        "id": "Vkh8j8MOiDtS",
        "outputId": "c6db6c50-9722-4044-8d76-894304d5f726"
      },
      "execution_count": null,
      "outputs": [
        {
          "output_type": "stream",
          "name": "stderr",
          "text": [
            "/usr/local/lib/python3.11/dist-packages/keras/src/layers/rnn/rnn.py:200: UserWarning: Do not pass an `input_shape`/`input_dim` argument to a layer. When using Sequential models, prefer using an `Input(shape)` object as the first layer in the model instead.\n",
            "  super().__init__(**kwargs)\n"
          ]
        }
      ]
    },
    {
      "cell_type": "code",
      "source": [
        "model_48.fit(X_48, y_48, epochs=30, batch_size=32, validation_split=0.2)\n"
      ],
      "metadata": {
        "colab": {
          "base_uri": "https://localhost:8080/"
        },
        "id": "XfF1WS9ciH5Z",
        "outputId": "6fc2f9e6-5584-4ce0-9a64-039eaa697bbb"
      },
      "execution_count": null,
      "outputs": [
        {
          "output_type": "stream",
          "name": "stdout",
          "text": [
            "Epoch 1/30\n",
            "\u001b[1m25/25\u001b[0m \u001b[32m━━━━━━━━━━━━━━━━━━━━\u001b[0m\u001b[37m\u001b[0m \u001b[1m5s\u001b[0m 27ms/step - loss: 0.2592 - mae: 0.4084 - val_loss: 0.0159 - val_mae: 0.1006\n",
            "Epoch 2/30\n",
            "\u001b[1m25/25\u001b[0m \u001b[32m━━━━━━━━━━━━━━━━━━━━\u001b[0m\u001b[37m\u001b[0m \u001b[1m3s\u001b[0m 12ms/step - loss: 0.0452 - mae: 0.1587 - val_loss: 0.0089 - val_mae: 0.0745\n",
            "Epoch 3/30\n",
            "\u001b[1m25/25\u001b[0m \u001b[32m━━━━━━━━━━━━━━━━━━━━\u001b[0m\u001b[37m\u001b[0m \u001b[1m0s\u001b[0m 12ms/step - loss: 0.0255 - mae: 0.1191 - val_loss: 0.0092 - val_mae: 0.0742\n",
            "Epoch 4/30\n",
            "\u001b[1m25/25\u001b[0m \u001b[32m━━━━━━━━━━━━━━━━━━━━\u001b[0m\u001b[37m\u001b[0m \u001b[1m0s\u001b[0m 10ms/step - loss: 0.0221 - mae: 0.1111 - val_loss: 0.0091 - val_mae: 0.0740\n",
            "Epoch 5/30\n",
            "\u001b[1m25/25\u001b[0m \u001b[32m━━━━━━━━━━━━━━━━━━━━\u001b[0m\u001b[37m\u001b[0m \u001b[1m0s\u001b[0m 10ms/step - loss: 0.0184 - mae: 0.1012 - val_loss: 0.0091 - val_mae: 0.0770\n",
            "Epoch 6/30\n",
            "\u001b[1m25/25\u001b[0m \u001b[32m━━━━━━━━━━━━━━━━━━━━\u001b[0m\u001b[37m\u001b[0m \u001b[1m0s\u001b[0m 10ms/step - loss: 0.0170 - mae: 0.0981 - val_loss: 0.0088 - val_mae: 0.0754\n",
            "Epoch 7/30\n",
            "\u001b[1m25/25\u001b[0m \u001b[32m━━━━━━━━━━━━━━━━━━━━\u001b[0m\u001b[37m\u001b[0m \u001b[1m0s\u001b[0m 11ms/step - loss: 0.0156 - mae: 0.0939 - val_loss: 0.0088 - val_mae: 0.0750\n",
            "Epoch 8/30\n",
            "\u001b[1m25/25\u001b[0m \u001b[32m━━━━━━━━━━━━━━━━━━━━\u001b[0m\u001b[37m\u001b[0m \u001b[1m0s\u001b[0m 11ms/step - loss: 0.0138 - mae: 0.0881 - val_loss: 0.0087 - val_mae: 0.0728\n",
            "Epoch 9/30\n",
            "\u001b[1m25/25\u001b[0m \u001b[32m━━━━━━━━━━━━━━━━━━━━\u001b[0m\u001b[37m\u001b[0m \u001b[1m0s\u001b[0m 11ms/step - loss: 0.0129 - mae: 0.0855 - val_loss: 0.0088 - val_mae: 0.0754\n",
            "Epoch 10/30\n",
            "\u001b[1m25/25\u001b[0m \u001b[32m━━━━━━━━━━━━━━━━━━━━\u001b[0m\u001b[37m\u001b[0m \u001b[1m0s\u001b[0m 11ms/step - loss: 0.0118 - mae: 0.0815 - val_loss: 0.0088 - val_mae: 0.0718\n",
            "Epoch 11/30\n",
            "\u001b[1m25/25\u001b[0m \u001b[32m━━━━━━━━━━━━━━━━━━━━\u001b[0m\u001b[37m\u001b[0m \u001b[1m0s\u001b[0m 11ms/step - loss: 0.0115 - mae: 0.0807 - val_loss: 0.0086 - val_mae: 0.0726\n",
            "Epoch 12/30\n",
            "\u001b[1m25/25\u001b[0m \u001b[32m━━━━━━━━━━━━━━━━━━━━\u001b[0m\u001b[37m\u001b[0m \u001b[1m0s\u001b[0m 10ms/step - loss: 0.0106 - mae: 0.0779 - val_loss: 0.0089 - val_mae: 0.0726\n",
            "Epoch 13/30\n",
            "\u001b[1m25/25\u001b[0m \u001b[32m━━━━━━━━━━━━━━━━━━━━\u001b[0m\u001b[37m\u001b[0m \u001b[1m0s\u001b[0m 10ms/step - loss: 0.0103 - mae: 0.0764 - val_loss: 0.0084 - val_mae: 0.0724\n",
            "Epoch 14/30\n",
            "\u001b[1m25/25\u001b[0m \u001b[32m━━━━━━━━━━━━━━━━━━━━\u001b[0m\u001b[37m\u001b[0m \u001b[1m0s\u001b[0m 9ms/step - loss: 0.0105 - mae: 0.0778 - val_loss: 0.0088 - val_mae: 0.0775\n",
            "Epoch 15/30\n",
            "\u001b[1m25/25\u001b[0m \u001b[32m━━━━━━━━━━━━━━━━━━━━\u001b[0m\u001b[37m\u001b[0m \u001b[1m0s\u001b[0m 11ms/step - loss: 0.0088 - mae: 0.0717 - val_loss: 0.0083 - val_mae: 0.0723\n",
            "Epoch 16/30\n",
            "\u001b[1m25/25\u001b[0m \u001b[32m━━━━━━━━━━━━━━━━━━━━\u001b[0m\u001b[37m\u001b[0m \u001b[1m0s\u001b[0m 12ms/step - loss: 0.0089 - mae: 0.0724 - val_loss: 0.0091 - val_mae: 0.0790\n",
            "Epoch 17/30\n",
            "\u001b[1m25/25\u001b[0m \u001b[32m━━━━━━━━━━━━━━━━━━━━\u001b[0m\u001b[37m\u001b[0m \u001b[1m1s\u001b[0m 10ms/step - loss: 0.0090 - mae: 0.0722 - val_loss: 0.0084 - val_mae: 0.0740\n",
            "Epoch 18/30\n",
            "\u001b[1m25/25\u001b[0m \u001b[32m━━━━━━━━━━━━━━━━━━━━\u001b[0m\u001b[37m\u001b[0m \u001b[1m0s\u001b[0m 11ms/step - loss: 0.0089 - mae: 0.0717 - val_loss: 0.0087 - val_mae: 0.0761\n",
            "Epoch 19/30\n",
            "\u001b[1m25/25\u001b[0m \u001b[32m━━━━━━━━━━━━━━━━━━━━\u001b[0m\u001b[37m\u001b[0m \u001b[1m0s\u001b[0m 10ms/step - loss: 0.0080 - mae: 0.0686 - val_loss: 0.0087 - val_mae: 0.0761\n",
            "Epoch 20/30\n",
            "\u001b[1m25/25\u001b[0m \u001b[32m━━━━━━━━━━━━━━━━━━━━\u001b[0m\u001b[37m\u001b[0m \u001b[1m0s\u001b[0m 11ms/step - loss: 0.0083 - mae: 0.0696 - val_loss: 0.0084 - val_mae: 0.0744\n",
            "Epoch 21/30\n",
            "\u001b[1m25/25\u001b[0m \u001b[32m━━━━━━━━━━━━━━━━━━━━\u001b[0m\u001b[37m\u001b[0m \u001b[1m0s\u001b[0m 10ms/step - loss: 0.0081 - mae: 0.0684 - val_loss: 0.0082 - val_mae: 0.0727\n",
            "Epoch 22/30\n",
            "\u001b[1m25/25\u001b[0m \u001b[32m━━━━━━━━━━━━━━━━━━━━\u001b[0m\u001b[37m\u001b[0m \u001b[1m0s\u001b[0m 11ms/step - loss: 0.0078 - mae: 0.0678 - val_loss: 0.0088 - val_mae: 0.0788\n",
            "Epoch 23/30\n",
            "\u001b[1m25/25\u001b[0m \u001b[32m━━━━━━━━━━━━━━━━━━━━\u001b[0m\u001b[37m\u001b[0m \u001b[1m0s\u001b[0m 11ms/step - loss: 0.0080 - mae: 0.0691 - val_loss: 0.0086 - val_mae: 0.0737\n",
            "Epoch 24/30\n",
            "\u001b[1m25/25\u001b[0m \u001b[32m━━━━━━━━━━━━━━━━━━━━\u001b[0m\u001b[37m\u001b[0m \u001b[1m0s\u001b[0m 11ms/step - loss: 0.0081 - mae: 0.0685 - val_loss: 0.0084 - val_mae: 0.0723\n",
            "Epoch 25/30\n",
            "\u001b[1m25/25\u001b[0m \u001b[32m━━━━━━━━━━━━━━━━━━━━\u001b[0m\u001b[37m\u001b[0m \u001b[1m0s\u001b[0m 10ms/step - loss: 0.0073 - mae: 0.0656 - val_loss: 0.0088 - val_mae: 0.0770\n",
            "Epoch 26/30\n",
            "\u001b[1m25/25\u001b[0m \u001b[32m━━━━━━━━━━━━━━━━━━━━\u001b[0m\u001b[37m\u001b[0m \u001b[1m0s\u001b[0m 10ms/step - loss: 0.0066 - mae: 0.0614 - val_loss: 0.0084 - val_mae: 0.0730\n",
            "Epoch 27/30\n",
            "\u001b[1m25/25\u001b[0m \u001b[32m━━━━━━━━━━━━━━━━━━━━\u001b[0m\u001b[37m\u001b[0m \u001b[1m0s\u001b[0m 10ms/step - loss: 0.0066 - mae: 0.0619 - val_loss: 0.0085 - val_mae: 0.0730\n",
            "Epoch 28/30\n",
            "\u001b[1m25/25\u001b[0m \u001b[32m━━━━━━━━━━━━━━━━━━━━\u001b[0m\u001b[37m\u001b[0m \u001b[1m0s\u001b[0m 11ms/step - loss: 0.0069 - mae: 0.0635 - val_loss: 0.0111 - val_mae: 0.0910\n",
            "Epoch 29/30\n",
            "\u001b[1m25/25\u001b[0m \u001b[32m━━━━━━━━━━━━━━━━━━━━\u001b[0m\u001b[37m\u001b[0m \u001b[1m0s\u001b[0m 10ms/step - loss: 0.0069 - mae: 0.0643 - val_loss: 0.0086 - val_mae: 0.0769\n",
            "Epoch 30/30\n",
            "\u001b[1m25/25\u001b[0m \u001b[32m━━━━━━━━━━━━━━━━━━━━\u001b[0m\u001b[37m\u001b[0m \u001b[1m0s\u001b[0m 11ms/step - loss: 0.0061 - mae: 0.0599 - val_loss: 0.0088 - val_mae: 0.0766\n"
          ]
        },
        {
          "output_type": "execute_result",
          "data": {
            "text/plain": [
              "<keras.src.callbacks.history.History at 0x798bd924bd50>"
            ]
          },
          "metadata": {},
          "execution_count": 11
        }
      ]
    },
    {
      "cell_type": "code",
      "source": [
        "print(\"X shape:\", X_48.shape)\n",
        "print(\"sample X:\", X_48[sample_index:].shape)\n",
        "print(\"y shape:\", y_48.shape)\n",
        "print(\"sample y:\", y_48[sample_index].shape)"
      ],
      "metadata": {
        "colab": {
          "base_uri": "https://localhost:8080/",
          "height": 211
        },
        "id": "T_V2QxZXjUnD",
        "outputId": "4913cff5-8143-493a-fc0c-1ac925e83f0e"
      },
      "execution_count": null,
      "outputs": [
        {
          "output_type": "stream",
          "name": "stdout",
          "text": [
            "X shape: (989, 30, 12)\n"
          ]
        },
        {
          "output_type": "error",
          "ename": "NameError",
          "evalue": "name 'sample_index' is not defined",
          "traceback": [
            "\u001b[0;31m---------------------------------------------------------------------------\u001b[0m",
            "\u001b[0;31mNameError\u001b[0m                                 Traceback (most recent call last)",
            "\u001b[0;32m<ipython-input-12-617e00c1b537>\u001b[0m in \u001b[0;36m<cell line: 0>\u001b[0;34m()\u001b[0m\n\u001b[1;32m      1\u001b[0m \u001b[0mprint\u001b[0m\u001b[0;34m(\u001b[0m\u001b[0;34m\"X shape:\"\u001b[0m\u001b[0;34m,\u001b[0m \u001b[0mX_48\u001b[0m\u001b[0;34m.\u001b[0m\u001b[0mshape\u001b[0m\u001b[0;34m)\u001b[0m\u001b[0;34m\u001b[0m\u001b[0;34m\u001b[0m\u001b[0m\n\u001b[0;32m----> 2\u001b[0;31m \u001b[0mprint\u001b[0m\u001b[0;34m(\u001b[0m\u001b[0;34m\"sample X:\"\u001b[0m\u001b[0;34m,\u001b[0m \u001b[0mX_48\u001b[0m\u001b[0;34m[\u001b[0m\u001b[0msample_index\u001b[0m\u001b[0;34m:\u001b[0m\u001b[0;34m]\u001b[0m\u001b[0;34m.\u001b[0m\u001b[0mshape\u001b[0m\u001b[0;34m)\u001b[0m\u001b[0;34m\u001b[0m\u001b[0;34m\u001b[0m\u001b[0m\n\u001b[0m\u001b[1;32m      3\u001b[0m \u001b[0mprint\u001b[0m\u001b[0;34m(\u001b[0m\u001b[0;34m\"y shape:\"\u001b[0m\u001b[0;34m,\u001b[0m \u001b[0my_48\u001b[0m\u001b[0;34m.\u001b[0m\u001b[0mshape\u001b[0m\u001b[0;34m)\u001b[0m\u001b[0;34m\u001b[0m\u001b[0;34m\u001b[0m\u001b[0m\n\u001b[1;32m      4\u001b[0m \u001b[0mprint\u001b[0m\u001b[0;34m(\u001b[0m\u001b[0;34m\"sample y:\"\u001b[0m\u001b[0;34m,\u001b[0m \u001b[0my_48\u001b[0m\u001b[0;34m[\u001b[0m\u001b[0msample_index\u001b[0m\u001b[0;34m]\u001b[0m\u001b[0;34m.\u001b[0m\u001b[0mshape\u001b[0m\u001b[0;34m)\u001b[0m\u001b[0;34m\u001b[0m\u001b[0;34m\u001b[0m\u001b[0m\n",
            "\u001b[0;31mNameError\u001b[0m: name 'sample_index' is not defined"
          ]
        }
      ]
    },
    {
      "cell_type": "markdown",
      "source": [
        "##Предсказания"
      ],
      "metadata": {
        "id": "3ixoz91KppwG"
      }
    },
    {
      "cell_type": "code",
      "source": [
        "y_pred = model_48.predict(X_48[-1:])[0]\n",
        "y_true = y_48[-1]"
      ],
      "metadata": {
        "colab": {
          "base_uri": "https://localhost:8080/"
        },
        "id": "31ELsWRmiOeA",
        "outputId": "365cff59-3bef-441f-ee30-fb9cd6c902b9"
      },
      "execution_count": null,
      "outputs": [
        {
          "output_type": "stream",
          "name": "stdout",
          "text": [
            "\u001b[1m1/1\u001b[0m \u001b[32m━━━━━━━━━━━━━━━━━━━━\u001b[0m\u001b[37m\u001b[0m \u001b[1m0s\u001b[0m 175ms/step\n"
          ]
        }
      ]
    },
    {
      "cell_type": "code",
      "source": [
        "def plot_forecast_with_metrics_denorm(y_true, y_pred, scaler, target_col_index,\n",
        "                                      title=\"Прогноз vs Факт\", steps_ahead=48):\n",
        "    y_true_full = np.zeros((steps_ahead, scaler.n_features_in_))\n",
        "    y_pred_full = np.zeros((steps_ahead, scaler.n_features_in_))\n",
        "    y_true_full[:, target_col_index] = y_true\n",
        "    y_pred_full[:, target_col_index] = y_pred\n",
        "    y_true_denorm = scaler.inverse_transform(y_true_full)[:, target_col_index]\n",
        "    y_pred_denorm = scaler.inverse_transform(y_pred_full)[:, target_col_index]\n",
        "\n",
        "    mse = mean_squared_error(y_true_denorm, y_pred_denorm)\n",
        "    mae = mean_absolute_error(y_true_denorm, y_pred_denorm)\n",
        "    rmse = np.sqrt(mse)\n",
        "    r2 = r2_score(y_true_denorm, y_pred_denorm)\n",
        "    mape = mean_absolute_percentage_error(y_true_denorm, y_pred_denorm)\n",
        "    print(f\"\\nМетрики:\")\n",
        "    print(f\"MSE: {mse:.3f}\")\n",
        "    print(f\"MAE: {mae:.3f}\")\n",
        "    print(f\"RMSE: {rmse:.3f}\")\n",
        "    print(f\"R²: {r2:.3f}\")\n",
        "    print(f\"MAPE: {mape:.3f}\")\n",
        "\n",
        "    plt.figure(figsize=(14, 5))\n",
        "    plt.plot(y_true_denorm, label='Факт', marker='o', color='blue')\n",
        "    plt.plot(y_pred_denorm, label='Прогноз (GRU)', marker='o', color='orange')\n",
        "    plt.title(f\"{title}\")\n",
        "\n",
        "    plt.ylabel(\"Цена закрытия\")\n",
        "    plt.grid(True)\n",
        "    plt.legend()\n",
        "    plt.tight_layout()\n",
        "    plt.show()\n"
      ],
      "metadata": {
        "id": "lD057Q6ajvdQ"
      },
      "execution_count": null,
      "outputs": []
    },
    {
      "cell_type": "code",
      "source": [
        "\n",
        "plot_forecast_with_metrics_denorm(\n",
        "    y_true, y_pred,\n",
        "    scaler=scaler,\n",
        "    target_col_index=features.index('close'),\n",
        "    title=\"Прогноз GRU: close на 48 дней часов\",\n",
        "    steps_ahead=48\n",
        ")"
      ],
      "metadata": {
        "colab": {
          "base_uri": "https://localhost:8080/",
          "height": 628
        },
        "id": "fY5nBDxgiwgQ",
        "outputId": "987355fd-d9e3-44f8-c0f5-2a1b52587861"
      },
      "execution_count": null,
      "outputs": [
        {
          "output_type": "stream",
          "name": "stdout",
          "text": [
            "\n",
            "Метрики:\n",
            "MSE: 407.939\n",
            "MAE: 17.546\n",
            "RMSE: 20.197\n",
            "R²: -0.460\n",
            "MAPE: 0.056\n"
          ]
        },
        {
          "output_type": "display_data",
          "data": {
            "text/plain": [
              "<Figure size 1400x500 with 1 Axes>"
            ],
            "image/png": "[encoded data removed]"
          },
          "metadata": {}
        }
      ]
    },
    {
      "cell_type": "code",
      "source": [],
      "metadata": {
        "id": "6OzlHx59j2aO"
      },
      "execution_count": null,
      "outputs": []
    }
  ]
}