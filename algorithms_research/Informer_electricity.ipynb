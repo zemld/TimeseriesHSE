{
  "nbformat": 4,
  "nbformat_minor": 0,
  "metadata": {
    "colab": {
      "provenance": [],
      "gpuType": "T4"
    },
    "kernelspec": {
      "name": "python3",
      "display_name": "Python 3"
    },
    "language_info": {
      "name": "python"
    },
    "accelerator": "GPU"
  },
  "cells": [
    {
      "cell_type": "code",
      "execution_count": 2,
      "metadata": {
        "colab": {
          "base_uri": "https://localhost:8080/"
        },
        "id": "GH2H03aQm3S2",
        "outputId": "14a99856-46f5-4cea-e516-f3ca5335f39d"
      },
      "outputs": [
        {
          "output_type": "stream",
          "name": "stdout",
          "text": [
            "Cloning into 'Informer2020'...\n",
            "remote: Enumerating objects: 576, done.\u001b[K\n",
            "remote: Total 576 (delta 0), reused 0 (delta 0), pack-reused 576 (from 1)\u001b[K\n",
            "Receiving objects: 100% (576/576), 6.48 MiB | 3.58 MiB/s, done.\n",
            "Resolving deltas: 100% (330/330), done.\n",
            "/content/Informer2020\n",
            "Collecting matplotlib==3.1.1 (from -r requirements.txt (line 1))\n",
            "  Downloading matplotlib-3.1.1.tar.gz (37.8 MB)\n",
            "\u001b[2K     \u001b[90m━━━━━━━━━━━━━━━━━━━━━━━━━━━━━━━━━━━━━━━━\u001b[0m \u001b[32m37.8/37.8 MB\u001b[0m \u001b[31m28.8 MB/s\u001b[0m eta \u001b[36m0:00:00\u001b[0m\n",
            "\u001b[?25h  Preparing metadata (setup.py) ... \u001b[?25l\u001b[?25hdone\n",
            "Collecting numpy==1.19.4 (from -r requirements.txt (line 2))\n",
            "  Downloading numpy-1.19.4.zip (7.3 MB)\n",
            "\u001b[2K     \u001b[90m━━━━━━━━━━━━━━━━━━━━━━━━━━━━━━━━━━━━━━━━\u001b[0m \u001b[32m7.3/7.3 MB\u001b[0m \u001b[31m66.4 MB/s\u001b[0m eta \u001b[36m0:00:00\u001b[0m\n",
            "\u001b[?25h  Installing build dependencies ... \u001b[?25l\u001b[?25hdone\n",
            "  Getting requirements to build wheel ... \u001b[?25l\u001b[?25hdone\n",
            "  Preparing metadata (pyproject.toml) ... \u001b[?25l\u001b[?25hdone\n",
            "Collecting pandas==0.25.1 (from -r requirements.txt (line 3))\n",
            "  Downloading pandas-0.25.1.tar.gz (12.6 MB)\n",
            "\u001b[2K     \u001b[90m━━━━━━━━━━━━━━━━━━━━━━━━━━━━━━━━━━━━━━━━\u001b[0m \u001b[32m12.6/12.6 MB\u001b[0m \u001b[31m97.7 MB/s\u001b[0m eta \u001b[36m0:00:00\u001b[0m\n",
            "\u001b[?25h  \u001b[1;31merror\u001b[0m: \u001b[1msubprocess-exited-with-error\u001b[0m\n",
            "  \n",
            "  \u001b[31m×\u001b[0m \u001b[32mpython setup.py egg_info\u001b[0m did not run successfully.\n",
            "  \u001b[31m│\u001b[0m exit code: \u001b[1;36m1\u001b[0m\n",
            "  \u001b[31m╰─>\u001b[0m See above for output.\n",
            "  \n",
            "  \u001b[1;35mnote\u001b[0m: This error originates from a subprocess, and is likely not a problem with pip.\n",
            "  Preparing metadata (setup.py) ... \u001b[?25l\u001b[?25herror\n",
            "\u001b[1;31merror\u001b[0m: \u001b[1mmetadata-generation-failed\u001b[0m\n",
            "\n",
            "\u001b[31m×\u001b[0m Encountered error while generating package metadata.\n",
            "\u001b[31m╰─>\u001b[0m See above for output.\n",
            "\n",
            "\u001b[1;35mnote\u001b[0m: This is an issue with the package mentioned above, not pip.\n",
            "\u001b[1;36mhint\u001b[0m: See above for details.\n"
          ]
        }
      ],
      "source": [
        "# Клонируем репозиторий Informer2020 с информером\n",
        "!git clone https://github.com/zhouhaoyi/Informer2020.git\n",
        "%cd Informer2020\n",
        "\n",
        "# Устанавливаем зависимости\n",
        "!pip install -r requirements.txt"
      ]
    },
    {
      "cell_type": "code",
      "source": [
        "# Важный момент!! Когда загружаем данные, там есть неправильная строка, так что мы ее поправляем:\n",
        "filepath = \"/content/Informer2020/utils/tools.py\"\n",
        "\n",
        "with open(filepath, \"r\") as file:\n",
        "    content = file.read()\n",
        "\n",
        "# Заменим строку, например:\n",
        "content = content.replace(\"np.Inf\", \"np.inf\")\n",
        "\n",
        "with open(filepath, \"w\") as file:\n",
        "    file.write(content)"
      ],
      "metadata": {
        "id": "exGjOkmJnNEw"
      },
      "execution_count": 3,
      "outputs": []
    },
    {
      "cell_type": "code",
      "source": [
        "import matplotlib.pyplot as plt\n",
        "from google.colab import drive\n",
        "import numpy as np\n",
        "import pandas as pd\n",
        "import os"
      ],
      "metadata": {
        "id": "2yevBTlpnPhA"
      },
      "execution_count": 4,
      "outputs": []
    },
    {
      "cell_type": "code",
      "source": [
        "drive.mount('/content/drive/')\n",
        "df = pd.read_csv(\"/content/drive/MyDrive/household_power_consumption.txt\", sep=\";\")"
      ],
      "metadata": {
        "colab": {
          "base_uri": "https://localhost:8080/"
        },
        "id": "PT8xIeGDnRSo",
        "outputId": "bd407e11-87e3-49d7-a513-651d8b7f78d7"
      },
      "execution_count": 5,
      "outputs": [
        {
          "output_type": "stream",
          "name": "stdout",
          "text": [
            "Mounted at /content/drive/\n"
          ]
        },
        {
          "output_type": "stream",
          "name": "stderr",
          "text": [
            "<ipython-input-5-b56a3be83c5c>:2: DtypeWarning: Columns (2,3,4,5,6,7) have mixed types. Specify dtype option on import or set low_memory=False.\n",
            "  df = pd.read_csv(\"/content/drive/MyDrive/household_power_consumption.txt\", sep=\";\")\n"
          ]
        }
      ]
    },
    {
      "cell_type": "code",
      "source": [
        "# Работаем с данными\n",
        "df[\"DateTime\"] = df[\"timestamp\"]\n",
        "df = df.drop(columns=[\"timestamp\", \"Global_intensity\", \"Voltage\", \"Sub_metering_1\", \"Sub_metering_2\", \"Sub_metering_3\", \"Global_reactive_power\"])\n",
        "\n",
        "# Приводим столбцы к числовому виду\n",
        "numeric_columns = [\"price\"]\n",
        "df[numeric_columns] = df[numeric_columns].apply(pd.to_numeric, errors=\"coerce\")\n",
        "\n",
        "df = df.dropna()\n",
        "\n",
        "# Группируем данные по часам (было по минутам...)\n",
        "df = df.resample(\"h\", on=\"date\").mean().reset_index()\n",
        "df = df.interpolate(method=\"linear\")\n",
        "\n",
        "# Добавляем временные признаки\n",
        "df[\"hour\"] = df[\"date\"].dt.hour\n",
        "df[\"dayofweek\"] = df[\"date\"].dt.dayofweek\n",
        "df[\"month\"] = df[\"date\"].dt.month\n",
        "df[\"year\"] = df[\"date\"].dt.year\n",
        "df[\"day\"] = df[\"date\"].dt.day\n",
        "df[\"day_of_year\"] = df[\"date\"].dt.dayofyear\n",
        "\n",
        "df = df.dropna()"
      ],
      "metadata": {
        "id": "JVQW1ONznTYt"
      },
      "execution_count": 6,
      "outputs": []
    },
    {
      "cell_type": "code",
      "source": [
        "%cd /content/Informer2020\n",
        "\n",
        "# Сохраняем df в ./data/electricity.csv\n",
        "df.to_csv(\"data/electricity.csv\", index=False)"
      ],
      "metadata": {
        "colab": {
          "base_uri": "https://localhost:8080/"
        },
        "id": "boYgZPK0n2Q2",
        "outputId": "48bcc3f1-4f57-4cec-b3d4-f16ea3397f6c"
      },
      "execution_count": 7,
      "outputs": [
        {
          "output_type": "stream",
          "name": "stdout",
          "text": [
            "/content/Informer2020\n"
          ]
        }
      ]
    },
    {
      "cell_type": "code",
      "source": [
        "!python main_informer.py \\\n",
        "  --model informer \\\n",
        "  --data custom \\\n",
        "  --root_path ./data/ \\\n",
        "  --data_path electricity.csv \\\n",
        "  --features S \\\n",
        "  --target Global_active_power \\\n",
        "  --c_out 1\\\n",
        "  --enc_in 1\\\n",
        "  --dec_in 1\\\n",
        "  --freq h \\\n",
        "  --seq_len 168 \\\n",
        "  --label_len 72 \\\n",
        "  --pred_len 24 \\\n",
        "  --d_model 512 \\\n",
        "  --n_heads 8 \\\n",
        "  --e_layers 2 \\\n",
        "  --d_layers 1 \\\n",
        "  --train_epochs 15 \\\n",
        "  --batch_size 32"
      ],
      "metadata": {
        "colab": {
          "base_uri": "https://localhost:8080/"
        },
        "id": "106R2hWZn6XC",
        "outputId": "d56f08b3-288d-4f11-de07-e0417bb516e9"
      },
      "execution_count": 8,
      "outputs": [
        {
          "output_type": "stream",
          "name": "stdout",
          "text": [
            "Args in experiment:\n",
            "Namespace(model='informer', data='custom', root_path='./data/', data_path='electricity.csv', features='S', target='Global_active_power', freq='h', checkpoints='./checkpoints/', seq_len=168, label_len=72, pred_len=24, enc_in=1, dec_in=1, c_out=1, d_model=512, n_heads=8, e_layers=2, d_layers=1, s_layers=[3, 2, 1], d_ff=2048, factor=5, padding=0, distil=True, dropout=0.05, attn='prob', embed='timeF', activation='gelu', output_attention=False, do_predict=False, mix=True, cols=None, num_workers=0, itr=2, train_epochs=15, batch_size=32, patience=3, learning_rate=0.0001, des='test', loss='mse', lradj='type1', use_amp=False, inverse=False, use_gpu=True, gpu=0, use_multi_gpu=False, devices='0,1,2,3', detail_freq='h')\n",
            "Use GPU: cuda:0\n",
            ">>>>>>>start training : informer_custom_ftS_sl168_ll72_pl24_dm512_nh8_el2_dl1_df2048_atprob_fc5_ebtimeF_dtTrue_mxTrue_test_0>>>>>>>>>>>>>>>>>>>>>>>>>>\n",
            "train 24021\n",
            "val 3437\n",
            "test 6894\n",
            "\titers: 100, epoch: 1 | loss: 0.7647197\n",
            "\tspeed: 0.1810s/iter; left time: 2018.8763s\n",
            "\titers: 200, epoch: 1 | loss: 0.7187690\n",
            "\tspeed: 0.1058s/iter; left time: 1169.1638s\n",
            "\titers: 300, epoch: 1 | loss: 0.7107797\n",
            "\tspeed: 0.1067s/iter; left time: 1168.9051s\n",
            "\titers: 400, epoch: 1 | loss: 0.7364607\n",
            "\tspeed: 0.1101s/iter; left time: 1195.0692s\n",
            "\titers: 500, epoch: 1 | loss: 0.8349547\n",
            "\tspeed: 0.1084s/iter; left time: 1164.8838s\n",
            "\titers: 600, epoch: 1 | loss: 0.6252686\n",
            "\tspeed: 0.1085s/iter; left time: 1155.7776s\n",
            "\titers: 700, epoch: 1 | loss: 0.5497584\n",
            "\tspeed: 0.1090s/iter; left time: 1150.3347s\n",
            "Epoch: 1 cost time: 82.78626036643982\n",
            "Epoch: 1, Steps: 750 | Train Loss: 0.7490102 Vali Loss: 0.6274127 Test Loss: 0.4452771\n",
            "Validation loss decreased (inf --> 0.627413).  Saving model ...\n",
            "Updating learning rate to 0.0001\n",
            "\titers: 100, epoch: 2 | loss: 0.6849787\n",
            "\tspeed: 0.3061s/iter; left time: 3183.7596s\n",
            "\titers: 200, epoch: 2 | loss: 0.7530231\n",
            "\tspeed: 0.1106s/iter; left time: 1139.6429s\n",
            "\titers: 300, epoch: 2 | loss: 0.5719683\n",
            "\tspeed: 0.1114s/iter; left time: 1136.8677s\n",
            "\titers: 400, epoch: 2 | loss: 0.6346151\n",
            "\tspeed: 0.1117s/iter; left time: 1128.0548s\n",
            "\titers: 500, epoch: 2 | loss: 0.6895429\n",
            "\tspeed: 0.1120s/iter; left time: 1120.2369s\n",
            "\titers: 600, epoch: 2 | loss: 0.4471579\n",
            "\tspeed: 0.1119s/iter; left time: 1108.1456s\n",
            "\titers: 700, epoch: 2 | loss: 0.5372436\n",
            "\tspeed: 0.1117s/iter; left time: 1094.4872s\n",
            "Epoch: 2 cost time: 83.6333372592926\n",
            "Epoch: 2, Steps: 750 | Train Loss: 0.5985419 Vali Loss: 0.6019149 Test Loss: 0.4277448\n",
            "Validation loss decreased (0.627413 --> 0.601915).  Saving model ...\n",
            "Updating learning rate to 5e-05\n",
            "\titers: 100, epoch: 3 | loss: 0.4993370\n",
            "\tspeed: 0.3137s/iter; left time: 3027.7953s\n",
            "\titers: 200, epoch: 3 | loss: 0.4362814\n",
            "\tspeed: 0.1126s/iter; left time: 1075.6560s\n",
            "\titers: 300, epoch: 3 | loss: 0.4728683\n",
            "\tspeed: 0.1126s/iter; left time: 1064.2451s\n",
            "\titers: 400, epoch: 3 | loss: 0.6818861\n",
            "\tspeed: 0.1132s/iter; left time: 1058.1710s\n",
            "\titers: 500, epoch: 3 | loss: 0.4532356\n",
            "\tspeed: 0.1135s/iter; left time: 1050.3232s\n",
            "\titers: 600, epoch: 3 | loss: 0.6688174\n",
            "\tspeed: 0.1135s/iter; left time: 1038.5802s\n",
            "\titers: 700, epoch: 3 | loss: 0.5021731\n",
            "\tspeed: 0.1134s/iter; left time: 1026.6532s\n",
            "Epoch: 3 cost time: 84.83129572868347\n",
            "Epoch: 3, Steps: 750 | Train Loss: 0.5348523 Vali Loss: 0.6179521 Test Loss: 0.4379971\n",
            "EarlyStopping counter: 1 out of 3\n",
            "Updating learning rate to 2.5e-05\n",
            "\titers: 100, epoch: 4 | loss: 0.4564580\n",
            "\tspeed: 0.3148s/iter; left time: 2801.9711s\n",
            "\titers: 200, epoch: 4 | loss: 0.4681978\n",
            "\tspeed: 0.1140s/iter; left time: 1003.3372s\n",
            "\titers: 300, epoch: 4 | loss: 0.4732584\n",
            "\tspeed: 0.1136s/iter; left time: 988.2285s\n",
            "\titers: 400, epoch: 4 | loss: 0.5377963\n",
            "\tspeed: 0.1137s/iter; left time: 977.5305s\n",
            "\titers: 500, epoch: 4 | loss: 0.5492145\n",
            "\tspeed: 0.1141s/iter; left time: 970.2541s\n",
            "\titers: 600, epoch: 4 | loss: 0.4011528\n",
            "\tspeed: 0.1142s/iter; left time: 959.2895s\n",
            "\titers: 700, epoch: 4 | loss: 0.5038744\n",
            "\tspeed: 0.1144s/iter; left time: 949.9591s\n",
            "Epoch: 4 cost time: 85.45304822921753\n",
            "Epoch: 4, Steps: 750 | Train Loss: 0.4953176 Vali Loss: 0.6140565 Test Loss: 0.4343355\n",
            "EarlyStopping counter: 2 out of 3\n",
            "Updating learning rate to 1.25e-05\n",
            "\titers: 100, epoch: 5 | loss: 0.4553784\n",
            "\tspeed: 0.3157s/iter; left time: 2573.3510s\n",
            "\titers: 200, epoch: 5 | loss: 0.5134398\n",
            "\tspeed: 0.1143s/iter; left time: 920.2264s\n",
            "\titers: 300, epoch: 5 | loss: 0.5429837\n",
            "\tspeed: 0.1143s/iter; left time: 909.1390s\n",
            "\titers: 400, epoch: 5 | loss: 0.3706155\n",
            "\tspeed: 0.1142s/iter; left time: 896.9433s\n",
            "\titers: 500, epoch: 5 | loss: 0.4777485\n",
            "\tspeed: 0.1138s/iter; left time: 881.8271s\n",
            "\titers: 600, epoch: 5 | loss: 0.5042648\n",
            "\tspeed: 0.1141s/iter; left time: 872.7661s\n",
            "\titers: 700, epoch: 5 | loss: 0.4788408\n",
            "\tspeed: 0.1142s/iter; left time: 862.4020s\n",
            "Epoch: 5 cost time: 85.62937641143799\n",
            "Epoch: 5, Steps: 750 | Train Loss: 0.4703841 Vali Loss: 0.6282256 Test Loss: 0.4454327\n",
            "EarlyStopping counter: 3 out of 3\n",
            "Early stopping\n",
            ">>>>>>>testing : informer_custom_ftS_sl168_ll72_pl24_dm512_nh8_el2_dl1_df2048_atprob_fc5_ebtimeF_dtTrue_mxTrue_test_0<<<<<<<<<<<<<<<<<<<<<<<<<<<<<<<<<\n",
            "test 6894\n",
            "test shape: (215, 32, 24, 1) (215, 32, 24, 1)\n",
            "test shape: (6880, 24, 1) (6880, 24, 1)\n",
            "mse:0.4276566505432129, mae:0.4903768002986908\n",
            "Use GPU: cuda:0\n",
            ">>>>>>>start training : informer_custom_ftS_sl168_ll72_pl24_dm512_nh8_el2_dl1_df2048_atprob_fc5_ebtimeF_dtTrue_mxTrue_test_1>>>>>>>>>>>>>>>>>>>>>>>>>>\n",
            "train 24021\n",
            "val 3437\n",
            "test 6894\n",
            "\titers: 100, epoch: 1 | loss: 1.0449212\n",
            "\tspeed: 0.1144s/iter; left time: 1275.4453s\n",
            "\titers: 200, epoch: 1 | loss: 0.7813411\n",
            "\tspeed: 0.1161s/iter; left time: 1282.8044s\n",
            "\titers: 300, epoch: 1 | loss: 0.7151772\n",
            "\tspeed: 0.1160s/iter; left time: 1270.4119s\n",
            "\titers: 400, epoch: 1 | loss: 0.7100077\n",
            "\tspeed: 0.1159s/iter; left time: 1257.7548s\n",
            "\titers: 500, epoch: 1 | loss: 0.5442935\n",
            "\tspeed: 0.1153s/iter; left time: 1239.9780s\n",
            "\titers: 600, epoch: 1 | loss: 0.5608104\n",
            "\tspeed: 0.1147s/iter; left time: 1221.7400s\n",
            "\titers: 700, epoch: 1 | loss: 0.6281517\n",
            "\tspeed: 0.1152s/iter; left time: 1215.9620s\n",
            "Epoch: 1 cost time: 86.63510322570801\n",
            "Epoch: 1, Steps: 750 | Train Loss: 0.7390155 Vali Loss: 0.6231810 Test Loss: 0.4490952\n",
            "Validation loss decreased (inf --> 0.623181).  Saving model ...\n",
            "Updating learning rate to 0.0001\n",
            "\titers: 100, epoch: 2 | loss: 0.5733724\n",
            "\tspeed: 0.3216s/iter; left time: 3344.9776s\n",
            "\titers: 200, epoch: 2 | loss: 0.5725766\n",
            "\tspeed: 0.1155s/iter; left time: 1189.6864s\n",
            "\titers: 300, epoch: 2 | loss: 0.6117258\n",
            "\tspeed: 0.1156s/iter; left time: 1179.2491s\n",
            "\titers: 400, epoch: 2 | loss: 0.5307645\n",
            "\tspeed: 0.1156s/iter; left time: 1167.5513s\n",
            "\titers: 500, epoch: 2 | loss: 0.5790456\n",
            "\tspeed: 0.1155s/iter; left time: 1155.1016s\n",
            "\titers: 600, epoch: 2 | loss: 0.4888511\n",
            "\tspeed: 0.1156s/iter; left time: 1144.2179s\n",
            "\titers: 700, epoch: 2 | loss: 0.5765506\n",
            "\tspeed: 0.1153s/iter; left time: 1129.9079s\n",
            "Epoch: 2 cost time: 86.61643362045288\n",
            "Epoch: 2, Steps: 750 | Train Loss: 0.5860182 Vali Loss: 0.6400509 Test Loss: 0.4335087\n",
            "EarlyStopping counter: 1 out of 3\n",
            "Updating learning rate to 5e-05\n",
            "\titers: 100, epoch: 3 | loss: 0.5103745\n",
            "\tspeed: 0.3196s/iter; left time: 3084.6651s\n",
            "\titers: 200, epoch: 3 | loss: 0.4916123\n",
            "\tspeed: 0.1156s/iter; left time: 1103.8861s\n",
            "\titers: 300, epoch: 3 | loss: 0.4435571\n",
            "\tspeed: 0.1153s/iter; left time: 1089.3578s\n",
            "\titers: 400, epoch: 3 | loss: 0.5258974\n",
            "\tspeed: 0.1150s/iter; left time: 1075.6404s\n",
            "\titers: 500, epoch: 3 | loss: 0.5826286\n",
            "\tspeed: 0.1152s/iter; left time: 1065.2528s\n",
            "\titers: 600, epoch: 3 | loss: 0.5480533\n",
            "\tspeed: 0.1153s/iter; left time: 1055.4095s\n",
            "\titers: 700, epoch: 3 | loss: 0.6045127\n",
            "\tspeed: 0.1154s/iter; left time: 1044.2595s\n",
            "Epoch: 3 cost time: 86.46056079864502\n",
            "Epoch: 3, Steps: 750 | Train Loss: 0.5216634 Vali Loss: 0.6015029 Test Loss: 0.4350626\n",
            "Validation loss decreased (0.623181 --> 0.601503).  Saving model ...\n",
            "Updating learning rate to 2.5e-05\n",
            "\titers: 100, epoch: 4 | loss: 0.4459623\n",
            "\tspeed: 0.3220s/iter; left time: 2866.2876s\n",
            "\titers: 200, epoch: 4 | loss: 0.4677505\n",
            "\tspeed: 0.1154s/iter; left time: 1015.4793s\n",
            "\titers: 300, epoch: 4 | loss: 0.5363975\n",
            "\tspeed: 0.1154s/iter; left time: 1004.3428s\n",
            "\titers: 400, epoch: 4 | loss: 0.4407839\n",
            "\tspeed: 0.1155s/iter; left time: 993.2090s\n",
            "\titers: 500, epoch: 4 | loss: 0.4986745\n",
            "\tspeed: 0.1156s/iter; left time: 983.0084s\n",
            "\titers: 600, epoch: 4 | loss: 0.4678861\n",
            "\tspeed: 0.1152s/iter; left time: 967.4507s\n",
            "\titers: 700, epoch: 4 | loss: 0.5206441\n",
            "\tspeed: 0.1152s/iter; left time: 956.5633s\n",
            "Epoch: 4 cost time: 86.56498384475708\n",
            "Epoch: 4, Steps: 750 | Train Loss: 0.4781104 Vali Loss: 0.6110563 Test Loss: 0.4284340\n",
            "EarlyStopping counter: 1 out of 3\n",
            "Updating learning rate to 1.25e-05\n",
            "\titers: 100, epoch: 5 | loss: 0.4403374\n",
            "\tspeed: 0.3205s/iter; left time: 2612.7867s\n",
            "\titers: 200, epoch: 5 | loss: 0.4437947\n",
            "\tspeed: 0.1157s/iter; left time: 931.2620s\n",
            "\titers: 300, epoch: 5 | loss: 0.5289785\n",
            "\tspeed: 0.1154s/iter; left time: 917.8377s\n",
            "\titers: 400, epoch: 5 | loss: 0.4022102\n",
            "\tspeed: 0.1158s/iter; left time: 909.2208s\n",
            "\titers: 500, epoch: 5 | loss: 0.4901917\n",
            "\tspeed: 0.1158s/iter; left time: 897.1906s\n",
            "\titers: 600, epoch: 5 | loss: 0.3780827\n",
            "\tspeed: 0.1155s/iter; left time: 883.9066s\n",
            "\titers: 700, epoch: 5 | loss: 0.3172879\n",
            "\tspeed: 0.1156s/iter; left time: 873.2634s\n",
            "Epoch: 5 cost time: 86.66910076141357\n",
            "Epoch: 5, Steps: 750 | Train Loss: 0.4525520 Vali Loss: 0.6269867 Test Loss: 0.4349245\n",
            "EarlyStopping counter: 2 out of 3\n",
            "Updating learning rate to 6.25e-06\n",
            "\titers: 100, epoch: 6 | loss: 0.3691881\n",
            "\tspeed: 0.3200s/iter; left time: 2368.0450s\n",
            "\titers: 200, epoch: 6 | loss: 0.4711953\n",
            "\tspeed: 0.1155s/iter; left time: 843.5084s\n",
            "\titers: 300, epoch: 6 | loss: 0.3885667\n",
            "\tspeed: 0.1160s/iter; left time: 835.2297s\n",
            "\titers: 400, epoch: 6 | loss: 0.4208774\n",
            "\tspeed: 0.1155s/iter; left time: 820.4506s\n",
            "\titers: 500, epoch: 6 | loss: 0.4070393\n",
            "\tspeed: 0.1155s/iter; left time: 808.7183s\n",
            "\titers: 600, epoch: 6 | loss: 0.4660173\n",
            "\tspeed: 0.1157s/iter; left time: 798.6820s\n",
            "\titers: 700, epoch: 6 | loss: 0.5255560\n",
            "\tspeed: 0.1157s/iter; left time: 786.8584s\n",
            "Epoch: 6 cost time: 86.74558877944946\n",
            "Epoch: 6, Steps: 750 | Train Loss: 0.4390205 Vali Loss: 0.6283744 Test Loss: 0.4370525\n",
            "EarlyStopping counter: 3 out of 3\n",
            "Early stopping\n",
            ">>>>>>>testing : informer_custom_ftS_sl168_ll72_pl24_dm512_nh8_el2_dl1_df2048_atprob_fc5_ebtimeF_dtTrue_mxTrue_test_1<<<<<<<<<<<<<<<<<<<<<<<<<<<<<<<<<\n",
            "test 6894\n",
            "test shape: (215, 32, 24, 1) (215, 32, 24, 1)\n",
            "test shape: (6880, 24, 1) (6880, 24, 1)\n",
            "mse:0.4345817267894745, mae:0.4877290427684784\n"
          ]
        }
      ]
    },
    {
      "cell_type": "code",
      "source": [
        "# Путь к папке результатов\n",
        "result_folder = \"/content/Informer2020/results/informer_custom_ftS_sl168_ll72_pl24_dm512_nh8_el2_dl1_df2048_atprob_fc5_ebtimeF_dtTrue_mxTrue_test_1\"\n",
        "\n",
        "print(os.listdir(result_folder))\n",
        "\n",
        "# Считываем реальные и предсказанные значения\n",
        "true = np.load(os.path.join(result_folder, \"true.npy\"))\n",
        "preds = np.load(os.path.join(result_folder, \"pred.npy\"))"
      ],
      "metadata": {
        "colab": {
          "base_uri": "https://localhost:8080/"
        },
        "id": "bJzWITZsoaI5",
        "outputId": "e64580bb-cc5a-459e-f30b-c8f18fc3481a"
      },
      "execution_count": 9,
      "outputs": [
        {
          "output_type": "stream",
          "name": "stdout",
          "text": [
            "['pred.npy', 'metrics.npy', 'true.npy']\n"
          ]
        }
      ]
    },
    {
      "cell_type": "code",
      "source": [
        "plt.figure(figsize=(8, 4))\n",
        "plt.plot(preds[-1], color='orange', label='Informer forecast')\n",
        "plt.plot(true[-1], label='Actual')\n",
        "plt.title(\"Informer предсказание\")\n",
        "plt.xlabel(\"Time step\")\n",
        "plt.ylabel(\"Значение\")\n",
        "plt.grid(True)\n",
        "plt.legend()\n",
        "plt.show()"
      ],
      "metadata": {
        "colab": {
          "base_uri": "https://localhost:8080/",
          "height": 410
        },
        "id": "mS5a5t0JodM9",
        "outputId": "9682819f-62c3-4b18-c467-dd20b9323da9"
      },
      "execution_count": 10,
      "outputs": [
        {
          "output_type": "display_data",
          "data": {
            "text/plain": [
              "<Figure size 800x400 with 1 Axes>"
            ],
            "image/png": "[encoded data removed]"
          },
          "metadata": {}
        }
      ]
    }
  ]
}